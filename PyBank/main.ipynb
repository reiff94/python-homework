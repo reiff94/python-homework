{
 "cells": [
  {
   "cell_type": "code",
   "execution_count": 69,
   "id": "a0994bec-8ebd-4cb6-8d20-7ae458bdad59",
   "metadata": {},
   "outputs": [],
   "source": [
    "# Import the pathlib and csv library\n",
    "from pathlib import Path\n",
    "import csv\n"
   ]
  },
  {
   "cell_type": "code",
   "execution_count": 70,
   "id": "9362cab6-c0a5-4900-b090-46dc05f64bd4",
   "metadata": {},
   "outputs": [],
   "source": [
    "# Set the file path\n",
    "budget_data_file_path = Path(\"./Resources/budget_data.csv\")\n",
    "budget_analysis = {}\n",
    "total_pnl = 0\n",
    "# total months\n",
    "# total pnl\n",
    "# average change\n",
    "# greatest increase/decrease"
   ]
  },
  {
   "cell_type": "code",
   "execution_count": 71,
   "id": "8b6a7150-8aa6-4b1c-9074-bab2cac34c67",
   "metadata": {},
   "outputs": [],
   "source": [
    "# Open the csv file as an object\n",
    "with open(budget_data_file_path, \"r\") as csvfile:\n",
    "\n",
    "    # Pass in the csv file to the csv.reader() function\n",
    "    # (with ',' as the delmiter/separator) and return the csvreader object\n",
    "    csvreader = csv.reader(csvfile, delimiter=\",\")\n",
    "\n",
    "    # Read the header row first (skip this step if there is no header)\n",
    "    csv_header = next(csvreader)\n",
    "\n",
    "    # Read each row of data after the header\n",
    "    for row in csvreader:\n",
    "        month = row[0]\n",
    "        profit_loss = int(row[1])\n",
    "        \n",
    "        total_pnl += profit_loss\n",
    "        \n",
    "        if month not in budget_analysis.keys():\n",
    "            budget_analysis[month] = {\"profit_loss\" : profit_loss}\n"
   ]
  },
  {
   "cell_type": "code",
   "execution_count": 72,
   "id": "41cdecc3-3ccd-4cf1-8874-4c67351af197",
   "metadata": {},
   "outputs": [],
   "source": [
    "total_months = len(budget_analysis)"
   ]
  },
  {
   "cell_type": "code",
   "execution_count": 73,
   "id": "2ca322b8-a8d0-4624-92b2-a8f9311a7c5b",
   "metadata": {},
   "outputs": [
    {
     "name": "stdout",
     "output_type": "stream",
     "text": [
      "Financial Analysis\n",
      "----------------------------\n",
      "Total Months: 86\n",
      "Total: $38,382,578.00\n"
     ]
    }
   ],
   "source": [
    "print(\"Financial Analysis\")\n",
    "print(\"----------------------------\")\n",
    "print(\"Total Months: %d\" % total_months)\n",
    "print(\"Total: \" + \"${:,.2f}\".format(total_pnl))\n",
    "#Average  Change: $-2315.12\n",
    "#Greatest Increase in Profits: Feb-2012 ($1926159)\n",
    "#Greatest Decrease in Profits: Sep-2013 ($-2196167)\n"
   ]
  },
  {
   "cell_type": "code",
   "execution_count": null,
   "id": "32ebc40a-936e-43a4-8cac-c6d832a47bcc",
   "metadata": {},
   "outputs": [],
   "source": []
  }
 ],
 "metadata": {
  "kernelspec": {
   "display_name": "Python 3",
   "language": "python",
   "name": "python3"
  },
  "language_info": {
   "codemirror_mode": {
    "name": "ipython",
    "version": 3
   },
   "file_extension": ".py",
   "mimetype": "text/x-python",
   "name": "python",
   "nbconvert_exporter": "python",
   "pygments_lexer": "ipython3",
   "version": "3.8.8"
  }
 },
 "nbformat": 4,
 "nbformat_minor": 5
}
