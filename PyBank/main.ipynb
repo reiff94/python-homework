{
 "cells": [
  {
   "cell_type": "code",
   "execution_count": 291,
   "id": "a0994bec-8ebd-4cb6-8d20-7ae458bdad59",
   "metadata": {},
   "outputs": [],
   "source": [
    "# Import the pathlib and csv library\n",
    "from pathlib import Path\n",
    "import csv\n"
   ]
  },
  {
   "cell_type": "code",
   "execution_count": 292,
   "id": "9362cab6-c0a5-4900-b090-46dc05f64bd4",
   "metadata": {},
   "outputs": [],
   "source": [
    "# Set the file path\n",
    "budget_data_file_path = Path(\"./Resources/budget_data.csv\")\n",
    "\n",
    "# define the dicts\n",
    "budget_analysis = {}\n",
    "monthly_changes = {}\n"
   ]
  },
  {
   "cell_type": "code",
   "execution_count": 293,
   "id": "8b6a7150-8aa6-4b1c-9074-bab2cac34c67",
   "metadata": {},
   "outputs": [],
   "source": [
    "# Open the csv file as an object\n",
    "with open(budget_data_file_path, \"r\") as csvfile:\n",
    "\n",
    "    # Pass in the csv file to the csv.reader() function\n",
    "    # (with ',' as the delmiter/separator) and return the csvreader object\n",
    "    csvreader = csv.reader(csvfile, delimiter=\",\")\n",
    "\n",
    "    # Read the header row first (skip this step if there is no header)\n",
    "    csv_header = next(csvreader)\n",
    "    \n",
    "    #initiate 'last' profit_lost to None\n",
    "    last = None\n",
    "\n",
    "    # Read each row of data after the header\n",
    "    for row in csvreader:\n",
    "        month = row[0]\n",
    "        profit_loss = int(row[1])\n",
    "   \n",
    "        if (last != None): \n",
    "            change = profit_loss - last\n",
    "            monthly_changes[month] = change\n",
    "           \n",
    "            \n",
    "        budget_analysis[month] = profit_loss\n",
    "        \n",
    "        last = profit_loss\n"
   ]
  },
  {
   "cell_type": "code",
   "execution_count": 294,
   "id": "41cdecc3-3ccd-4cf1-8874-4c67351af197",
   "metadata": {},
   "outputs": [],
   "source": [
    "total_months = len( budget_analysis )\n",
    "total_profit_loss = sum( budget_analysis.values() )\n",
    "\n",
    "average_change = sum( monthly_changes.values() ) / len( monthly_changes )\n",
    "\n",
    "max_change_month = max( monthly_changes, key=monthly_changes.get )\n",
    "max_change = max( monthly_changes.values() )\n",
    "\n",
    "min_change_month = min( monthly_changes, key=monthly_changes.get )\n",
    "min_change = min( monthly_changes.values() )\n"
   ]
  },
  {
   "cell_type": "code",
   "execution_count": 295,
   "id": "2ca322b8-a8d0-4624-92b2-a8f9311a7c5b",
   "metadata": {},
   "outputs": [
    {
     "name": "stdout",
     "output_type": "stream",
     "text": [
      "Financial Analysis\n",
      "----------------------------\n",
      "Total Months: 86\n",
      "Total: $38382578\n",
      "Average  Change: $-2,315.12\n",
      "Greatest Increase in Profits: Feb-2012 ($1926159)\n",
      "Greatest Decrease in Profits: Sep-2013 ($-2196167)\n"
     ]
    }
   ],
   "source": [
    "print(\"Financial Analysis\")\n",
    "print(\"----------------------------\")\n",
    "print(\"Total Months: %d\" % total_months)\n",
    "print(\"Total: \" + \"${:d}\".format( total_profit_loss ) )\n",
    "print(\"Average  Change: \" + \"${:,.2f}\".format(average_change))\n",
    "print(\"Greatest Increase in Profits: %s (%s)\" %  ( max_change_month, \"${:d}\".format( max_increase ) ))\n",
    "print(\"Greatest Decrease in Profits: %s (%s)\" %  ( min_change_month,  \"${:d}\".format( min_change ) ))\n",
    "                                                 \n",
    "     "
   ]
  }
 ],
 "metadata": {
  "kernelspec": {
   "display_name": "Python 3",
   "language": "python",
   "name": "python3"
  },
  "language_info": {
   "codemirror_mode": {
    "name": "ipython",
    "version": 3
   },
   "file_extension": ".py",
   "mimetype": "text/x-python",
   "name": "python",
   "nbconvert_exporter": "python",
   "pygments_lexer": "ipython3",
   "version": "3.8.8"
  }
 },
 "nbformat": 4,
 "nbformat_minor": 5
}
